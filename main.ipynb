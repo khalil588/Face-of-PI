{
 "cells": [
  {
   "cell_type": "code",
   "execution_count": 1,
   "metadata": {},
   "outputs": [],
   "source": [
    "# Open the file in read mode\n",
    "with open('Pibillion/pii.txt', 'r') as file:\n",
    "    # Read the whole file\n",
    "    content = file.read()\n",
    "    \n"
   ]
  },
  {
   "cell_type": "code",
   "execution_count": 2,
   "metadata": {},
   "outputs": [
    {
     "data": {
      "text/plain": [
       "10485758"
      ]
     },
     "execution_count": 2,
     "metadata": {},
     "output_type": "execute_result"
    }
   ],
   "source": [
    "len(content)"
   ]
  },
  {
   "cell_type": "code",
   "execution_count": 3,
   "metadata": {},
   "outputs": [],
   "source": [
    "import math\n",
    "\n",
    "def golden_ratio():\n",
    "    return (1 + math.sqrt(5)) / 2\n",
    "\n",
    "# Calculate and print the golden ratio\n",
    "phi = golden_ratio()"
   ]
  },
  {
   "cell_type": "code",
   "execution_count": 4,
   "metadata": {},
   "outputs": [],
   "source": [
    "content = content.replace('\\n','')"
   ]
  },
  {
   "cell_type": "code",
   "execution_count": 5,
   "metadata": {},
   "outputs": [],
   "source": [
    "number_list = [int(content[i:i+3])*phi for i in range(0, len(content), 2)]"
   ]
  },
  {
   "cell_type": "code",
   "execution_count": 6,
   "metadata": {},
   "outputs": [
    {
     "data": {
      "text/plain": [
       "5242879"
      ]
     },
     "execution_count": 6,
     "metadata": {},
     "output_type": "execute_result"
    }
   ],
   "source": [
    "len(number_list)\n"
   ]
  },
  {
   "cell_type": "code",
   "execution_count": 7,
   "metadata": {},
   "outputs": [],
   "source": [
    "number_list = number_list[:348100]"
   ]
  },
  {
   "cell_type": "code",
   "execution_count": 8,
   "metadata": {},
   "outputs": [],
   "source": [
    "number_list_transformed = []\n",
    "for n in number_list : \n",
    "    r = n//3\n",
    "    while r > 255 :\n",
    "        r = r-255\n",
    "    x = n\n",
    "    while (x//2) > 255 : \n",
    "        x = x - 255\n",
    "    g = x//2\n",
    "    \n",
    "    while n > 255 : \n",
    "        n = n - 255\n",
    "    b = n \n",
    "    lst = [r,g,b]\n",
    "    number_list_transformed.append(lst)\n",
    "\n",
    "    "
   ]
  },
  {
   "cell_type": "code",
   "execution_count": 9,
   "metadata": {},
   "outputs": [
    {
     "data": {
      "text/plain": [
       "348100"
      ]
     },
     "execution_count": 9,
     "metadata": {},
     "output_type": "execute_result"
    }
   ],
   "source": [
    "len(number_list_transformed)"
   ]
  },
  {
   "cell_type": "code",
   "execution_count": 10,
   "metadata": {},
   "outputs": [],
   "source": [
    "from PIL import Image\n",
    "import numpy as np\n",
    "\n",
    "# Your list of RGB values (348,100 elements, each with 3 values for RGB)\n",
    "# Assuming 'data' is a list of 348100 sublists, each containing 3 integers (RGB values)\n",
    "# Here's a placeholder for demonstration purposes:\n",
    "#data = [[47, 70, 141]] * 348100  # Replace this with your actual data\n",
    "\n",
    "# Convert the list to a numpy array (reshape into a 590x590 pixel image, each pixel with 3 RGB values)\n",
    "image_array = np.array(number_list_transformed, dtype=np.uint8).reshape(590, 590, 3)\n",
    "\n",
    "# Create an image from the array\n",
    "image = Image.fromarray(image_array, 'RGB')\n",
    "\n",
    "# Save the image to a file\n",
    "image.save('output_image.png')\n",
    "\n",
    "# Optionally display the image\n",
    "image.show()\n"
   ]
  }
 ],
 "metadata": {
  "kernelspec": {
   "display_name": "F_pi",
   "language": "python",
   "name": "python3"
  },
  "language_info": {
   "codemirror_mode": {
    "name": "ipython",
    "version": 3
   },
   "file_extension": ".py",
   "mimetype": "text/x-python",
   "name": "python",
   "nbconvert_exporter": "python",
   "pygments_lexer": "ipython3",
   "version": "3.12.5"
  }
 },
 "nbformat": 4,
 "nbformat_minor": 2
}

{
 "cells": [
  {
   "cell_type": "code",
   "execution_count": 1,
   "metadata": {},
   "outputs": [],
   "source": [
    "# Open the file in read mode\n",
    "with open('Pibillion/pii.txt', 'r') as file:\n",
    "    # Read the whole file\n",
    "    content = file.read()\n",
    "    \n"
   ]
  },
  {
   "cell_type": "code",
   "execution_count": 2,
   "metadata": {},
   "outputs": [
    {
     "data": {
      "text/plain": [
       "10485758"
      ]
     },
     "execution_count": 2,
     "metadata": {},
     "output_type": "execute_result"
    }
   ],
   "source": [
    "len(content)"
   ]
  },
  {
   "cell_type": "code",
   "execution_count": 3,
   "metadata": {},
   "outputs": [],
   "source": [
    "import math\n",
    "\n",
    "def golden_ratio():\n",
    "    return (1 + math.sqrt(5)) / 2\n",
    "\n",
    "# Calculate and print the golden ratio\n",
    "phi = golden_ratio()"
   ]
  },
  {
   "cell_type": "code",
   "execution_count": 4,
   "metadata": {},
   "outputs": [],
   "source": [
    "content = content.replace('\\n','')"
   ]
  },
  {
   "cell_type": "code",
   "execution_count": 5,
   "metadata": {},
   "outputs": [],
   "source": [
    "number_list = [int(content[i:i+3])*phi for i in range(0, len(content), 2)]"
   ]
  },
  {
   "cell_type": "code",
   "execution_count": 6,
   "metadata": {},
   "outputs": [
    {
     "data": {
      "text/plain": [
       "5242879"
      ]
     },
     "execution_count": 6,
     "metadata": {},
     "output_type": "execute_result"
    }
   ],
   "source": [
    "len(number_list)\n"
   ]
  },
  {
   "cell_type": "code",
   "execution_count": 7,
   "metadata": {},
   "outputs": [],
   "source": [
    "number_list = number_list[:5235123]"
   ]
  },
  {
   "cell_type": "code",
   "execution_count": null,
   "metadata": {},
   "outputs": [],
   "source": []
  },
  {
   "cell_type": "code",
   "execution_count": 8,
   "metadata": {},
   "outputs": [],
   "source": [
    "import numpy as np\n",
    "\n",
    "# Assuming 'data' is your list of length 5242879\n",
    "data = np.array(number_list)\n",
    "# Clip values to be in the 0-255 range\n",
    "data = np.clip(data, 0, 255).astype(np.uint8)\n"
   ]
  },
  {
   "cell_type": "code",
   "execution_count": 9,
   "metadata": {},
   "outputs": [],
   "source": [
    "reshaped_data = data.reshape(1321, 1321, 3)"
   ]
  },
  {
   "cell_type": "code",
   "execution_count": 10,
   "metadata": {},
   "outputs": [],
   "source": [
    "from PIL import Image\n",
    "image = Image.fromarray(reshaped_data)\n",
    "image.save('output_image3.png')\n",
    "image.show()"
   ]
  },
  {
   "cell_type": "code",
   "execution_count": 11,
   "metadata": {},
   "outputs": [
    {
     "ename": "KeyboardInterrupt",
     "evalue": "",
     "output_type": "error",
     "traceback": [
      "\u001b[1;31m---------------------------------------------------------------------------\u001b[0m",
      "\u001b[1;31mKeyboardInterrupt\u001b[0m                         Traceback (most recent call last)",
      "Cell \u001b[1;32mIn[11], line 9\u001b[0m\n\u001b[0;32m      7\u001b[0m b \u001b[38;5;241m=\u001b[39m n \n\u001b[0;32m      8\u001b[0m lst \u001b[38;5;241m=\u001b[39m [r,g,b]\n\u001b[1;32m----> 9\u001b[0m number_list_transformed\u001b[38;5;241m.\u001b[39mappend(lst)\n",
      "\u001b[1;31mKeyboardInterrupt\u001b[0m: "
     ]
    }
   ],
   "source": [
    "number_list_transformed = []\n",
    "for n in number_list : \n",
    "    r = n//3\n",
    "\n",
    "    g = n//2\n",
    "    \n",
    "    b = n \n",
    "    lst = [r,g,b]\n",
    "    number_list_transformed.append(lst)\n",
    "\n",
    "    "
   ]
  },
  {
   "cell_type": "code",
   "execution_count": 8,
   "metadata": {},
   "outputs": [
    {
     "data": {
      "text/plain": [
       "348100"
      ]
     },
     "execution_count": 8,
     "metadata": {},
     "output_type": "execute_result"
    }
   ],
   "source": [
    "len(number_list_transformed)"
   ]
  },
  {
   "cell_type": "code",
   "execution_count": 9,
   "metadata": {},
   "outputs": [],
   "source": [
    "from PIL import Image\n",
    "import numpy as np\n",
    "\n",
    "# Your list of RGB values (348,100 elements, each with 3 values for RGB)\n",
    "# Assuming 'data' is a list of 348100 sublists, each containing 3 integers (RGB values)\n",
    "# Here's a placeholder for demonstration purposes:\n",
    "#data = [[47, 70, 141]] * 348100  # Replace this with your actual data\n",
    "\n",
    "# Convert to numpy array\n",
    "data_array = np.array(number_list_transformed, dtype=np.float32)\n",
    "\n",
    "# Normalize the RGB values to fit within 0-255 range\n",
    "data_array = np.clip(data_array, 0, 255)  # Clip values to the range 0-255\n",
    "data_array = data_array.astype(np.uint8)  # Convert to uint8 for image creation\n",
    "\n",
    "# Reshape to the desired image dimensions (e.g., 590x590)\n",
    "image_array = data_array.reshape(590, 590, 3)\n",
    "\n",
    "# Create an image from the array\n",
    "image = Image.fromarray(image_array, 'RGB')\n",
    "\n",
    "# Save the image to a file\n",
    "image.save('output_image.png')\n",
    "\n",
    "# Optionally display the image\n",
    "image.show()"
   ]
  }
 ],
 "metadata": {
  "kernelspec": {
   "display_name": "F_pi",
   "language": "python",
   "name": "python3"
  },
  "language_info": {
   "codemirror_mode": {
    "name": "ipython",
    "version": 3
   },
   "file_extension": ".py",
   "mimetype": "text/x-python",
   "name": "python",
   "nbconvert_exporter": "python",
   "pygments_lexer": "ipython3",
   "version": "3.12.5"
  }
 },
 "nbformat": 4,
 "nbformat_minor": 2
}

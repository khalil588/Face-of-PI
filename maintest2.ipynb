{
 "cells": [
  {
   "cell_type": "code",
   "execution_count": 1,
   "metadata": {},
   "outputs": [],
   "source": [
    "# Open the file in read mode\n",
    "with open('Pibillion/pii.txt', 'r') as file:\n",
    "    # Read the whole file\n",
    "    content = file.read()\n",
    "    \n"
   ]
  },
  {
   "cell_type": "code",
   "execution_count": 2,
   "metadata": {},
   "outputs": [
    {
     "data": {
      "text/plain": [
       "10485758"
      ]
     },
     "execution_count": 2,
     "metadata": {},
     "output_type": "execute_result"
    }
   ],
   "source": [
    "len(content)"
   ]
  },
  {
   "cell_type": "code",
   "execution_count": 3,
   "metadata": {},
   "outputs": [],
   "source": [
    "content = content.replace('\\n','')"
   ]
  },
  {
   "cell_type": "code",
   "execution_count": 4,
   "metadata": {},
   "outputs": [],
   "source": [
    "number_list = [int(content[i:i+3]) for i in range(0, len(content), 3)]"
   ]
  },
  {
   "cell_type": "code",
   "execution_count": 5,
   "metadata": {},
   "outputs": [
    {
     "data": {
      "text/plain": [
       "3495253"
      ]
     },
     "execution_count": 5,
     "metadata": {},
     "output_type": "execute_result"
    }
   ],
   "source": [
    "len(number_list)\n"
   ]
  },
  {
   "cell_type": "code",
   "execution_count": 6,
   "metadata": {},
   "outputs": [],
   "source": [
    "number_list = number_list[:348100]"
   ]
  },
  {
   "cell_type": "code",
   "execution_count": 7,
   "metadata": {},
   "outputs": [],
   "source": [
    "number_list_transformed = []\n",
    "for n in number_list : \n",
    "    r = n//3\n",
    "\n",
    "    g = n//2\n",
    "    \n",
    "    b = n \n",
    "    lst = [r,g,b]\n",
    "    number_list_transformed.append(lst)\n",
    "\n",
    "    "
   ]
  },
  {
   "cell_type": "code",
   "execution_count": 8,
   "metadata": {},
   "outputs": [
    {
     "data": {
      "text/plain": [
       "348100"
      ]
     },
     "execution_count": 8,
     "metadata": {},
     "output_type": "execute_result"
    }
   ],
   "source": [
    "len(number_list_transformed)"
   ]
  },
  {
   "cell_type": "code",
   "execution_count": 9,
   "metadata": {},
   "outputs": [],
   "source": [
    "from PIL import Image\n",
    "import numpy as np\n",
    "\n",
    "# Your list of RGB values (348,100 elements, each with 3 values for RGB)\n",
    "# Assuming 'data' is a list of 348100 sublists, each containing 3 integers (RGB values)\n",
    "# Here's a placeholder for demonstration purposes:\n",
    "#data = [[47, 70, 141]] * 348100  # Replace this with your actual data\n",
    "\n",
    "# Convert to numpy array\n",
    "data_array = np.array(number_list_transformed, dtype=np.float32)\n",
    "\n",
    "# Normalize the RGB values to fit within 0-255 range\n",
    "data_array = np.clip(data_array, 0, 255)  # Clip values to the range 0-255\n",
    "data_array = data_array.astype(np.uint8)  # Convert to uint8 for image creation\n",
    "\n",
    "# Reshape to the desired image dimensions (e.g., 590x590)\n",
    "image_array = data_array.reshape(590, 590, 3)\n",
    "\n",
    "# Create an image from the array\n",
    "image = Image.fromarray(image_array, 'RGB')\n",
    "\n",
    "# Save the image to a file\n",
    "image.save('output_image.png')\n",
    "\n",
    "# Optionally display the image\n",
    "image.show()"
   ]
  }
 ],
 "metadata": {
  "kernelspec": {
   "display_name": "F_pi",
   "language": "python",
   "name": "python3"
  },
  "language_info": {
   "codemirror_mode": {
    "name": "ipython",
    "version": 3
   },
   "file_extension": ".py",
   "mimetype": "text/x-python",
   "name": "python",
   "nbconvert_exporter": "python",
   "pygments_lexer": "ipython3",
   "version": "3.12.5"
  }
 },
 "nbformat": 4,
 "nbformat_minor": 2
}
